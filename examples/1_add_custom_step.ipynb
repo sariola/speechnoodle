{
 "cells": [
  {
   "cell_type": "code",
   "execution_count": null,
   "metadata": {},
   "outputs": [],
   "source": [
    "from typing import Union, List\n",
    "from datasets import DatasetDict\n",
    "import librosa\n",
    "import numpy as np\n",
    "\n",
    "from audio_dataset_creator.processors.audio_processor import AudioFile, ProcessedAudio\n",
    "from audio_dataset_creator.audio_dataset_creator import PipelineStep\n",
    "\n",
    "class ResampleTo44kHzStep(PipelineStep):\n",
    "    def __init__(self, target_sr: int = 44100):\n",
    "        self.target_sr = target_sr\n",
    "\n",
    "    def process(self, input_data: Union[List[AudioFile], List[ProcessedAudio], DatasetDict]) -> DatasetDict:\n",
    "        if not isinstance(input_data, DatasetDict):\n",
    "            raise ValueError(\"ResampleTo44kHzStep expects a DatasetDict as input\")\n",
    "\n",
    "        def resample_audio(example):\n",
    "            audio = np.array(example['audio'])\n",
    "            sr = example['sampling_rate']\n",
    "            if sr != self.target_sr:\n",
    "                audio = librosa.resample(audio, orig_sr=sr, target_sr=self.target_sr)\n",
    "            example['audio'] = audio.tolist()\n",
    "            example['sampling_rate'] = self.target_sr\n",
    "            return example\n",
    "\n",
    "        return input_data.map(resample_audio)\n",
    "\n",
    "    def __repr__(self) -> str:\n",
    "        return f\"ResampleTo44kHzStep(target_sr={self.target_sr})\"\n"
   ]
  },
  {
   "cell_type": "code",
   "execution_count": null,
   "metadata": {},
   "outputs": [],
   "source": [
    "\n",
    "from audio_dataset_creator import (\n",
    "    AudioDatasetCreator,\n",
    "    AudioDatasetCreatorConfig,\n",
    "    AudioProcessor,\n",
    "    DatasetCreator,\n",
    "    DatasetSplitter,\n",
    "    DatasetFilter\n",
    ")\n",
    "from audio_dataset_creator.processors.resample_step import ResampleTo44_1kHzStep\n",
    "\n",
    "config = AudioDatasetCreatorConfig()\n",
    "custom_pipeline = [\n",
    "    AudioProcessor(),\n",
    "    DatasetCreator(),\n",
    "    ResampleTo44kHzStep(),  # Add the new step here\n",
    "    DatasetSplitter(config.split_ratios),\n",
    "    DatasetFilter(config.filter_conditions)\n",
    "]\n",
    "\n",
    "creator = AudioDatasetCreator(config=config, pipeline=custom_pipeline)"
   ]
  }
 ],
 "metadata": {
  "language_info": {
   "name": "python"
  }
 },
 "nbformat": 4,
 "nbformat_minor": 2
}
